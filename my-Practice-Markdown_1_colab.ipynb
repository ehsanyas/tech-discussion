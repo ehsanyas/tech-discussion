{
  "nbformat": 4,
  "nbformat_minor": 0,
  "metadata": {
    "kernelspec": {
      "display_name": "Python 3",
      "language": "python",
      "name": "python3"
    },
    "language_info": {
      "codemirror_mode": {
        "name": "ipython",
        "version": 3
      },
      "file_extension": ".py",
      "mimetype": "text/x-python",
      "name": "python",
      "nbconvert_exporter": "python",
      "pygments_lexer": "ipython3",
      "version": "3.8.3"
    },
    "colab": {
      "name": "my-Practice-Markdown_1.ipynb",
      "provenance": [],
      "include_colab_link": true
    }
  },
  "cells": [
    {
      "cell_type": "markdown",
      "metadata": {
        "id": "view-in-github",
        "colab_type": "text"
      },
      "source": [
        "<a href=\"https://colab.research.google.com/github/ehsanyas/tech-discussion/blob/main/my-Practice-Markdown_1_colab.ipynb\" target=\"_parent\"><img src=\"https://colab.research.google.com/assets/colab-badge.svg\" alt=\"Open In Colab\"/></a>"
      ]
    },
    {
      "cell_type": "markdown",
      "metadata": {
        "id": "PVf0BvjEoJZi"
      },
      "source": [
        "## Practice Markdown"
      ]
    },
    {
      "cell_type": "markdown",
      "metadata": {
        "id": "sc8SV1VQoJZl"
      },
      "source": [
        "This notebook lets you experiment with producing repeatable technical documentation.  Use this notebook to do the following actions:\n",
        "\n",
        "* Create a code cell and print a Python Hello World statement:  `print(\"hello world\")`\n",
        "* Create a Markdown Cell and add a Title using `#` and then a statement using plain text.  You can looks at the source code for this cell to get an idea of how to use Markdown.\n",
        "* Take some ideas from the [Master Markdown Github Guide](https://guides.github.com/features/mastering-markdown/) and implement them here.\n",
        "* Download this notebook as a `.ipynb` file and check into a Github Project.  You can [see an example here](https://github.com/noahgift/duke-coursera-ccf-lab1/blob/main/Practice-Markdown.ipynb).\n",
        "* Open your notebook in Google Colab and save it into the same Github Project.  You can [see an example here](https://github.com/noahgift/duke-coursera-ccf-lab1/blob/main/Practice_Markdown_with_colab.ipynb).\n"
      ]
    },
    {
      "cell_type": "code",
      "metadata": {
        "id": "XLDJ4u9SoJZm",
        "outputId": "921c60e2-013f-4e1c-a980-f4a6877fc5cc"
      },
      "source": [
        "print(\"hello world\")"
      ],
      "execution_count": null,
      "outputs": [
        {
          "output_type": "stream",
          "text": [
            "hello world\n"
          ],
          "name": "stdout"
        }
      ]
    },
    {
      "cell_type": "markdown",
      "metadata": {
        "id": "Ze2JWenMoJZn"
      },
      "source": [
        "# Practice Markdown\n",
        "~~Ignore this line~~  \n",
        "\n",
        "**This text will be bold**  \n",
        "__This will also be bold__\n",
        "\n",
        "*This text will be italic*  \n",
        "_This will also be italic_"
      ]
    },
    {
      "cell_type": "markdown",
      "metadata": {
        "id": "HawnVvz-oJZo"
      },
      "source": [
        "#### Ordered\n",
        "1. Item 1\n",
        "1. Item 2\n",
        "1. Item 3\n",
        "   1. Item 3a\n",
        "   1. Item 3b\n",
        "\n",
        "#### Unordered\n",
        "* Item 1\n",
        "* Item 2\n",
        "  * Item 2a\n",
        "  * Item 2b\n",
        "  \n",
        "#### Link\n",
        "http://github.com - automatic!\n",
        "[GitHub](http://github.com)\n",
        "\n",
        "\n",
        "#### Blockquotes\n",
        "As Kanye West said:\n",
        "\n",
        "> We're living the future so\n",
        "> the present is our past."
      ]
    },
    {
      "cell_type": "code",
      "metadata": {
        "id": "7kFcOnSxoJZo"
      },
      "source": [
        ""
      ],
      "execution_count": null,
      "outputs": []
    }
  ]
}